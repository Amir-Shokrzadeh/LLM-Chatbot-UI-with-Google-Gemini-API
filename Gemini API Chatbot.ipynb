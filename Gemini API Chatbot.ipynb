{
 "cells": [
  {
   "cell_type": "markdown",
   "id": "9661971f-6661-47d1-9855-2a68004e6769",
   "metadata": {},
   "source": [
    "# This UI is going to be working specifically on financial market forecasting "
   ]
  },
  {
   "cell_type": "code",
   "execution_count": 4,
   "id": "0812a2df-7008-40f4-954c-fea3ef586138",
   "metadata": {},
   "outputs": [],
   "source": [
    "import gradio as gr\n",
    "import requests # For API requests to financial data sources\n",
    "from google.cloud import texttospeech"
   ]
  },
  {
   "cell_type": "code",
   "execution_count": 10,
   "id": "f339f47a-a5ee-45c0-a7a7-554b8430899c",
   "metadata": {},
   "outputs": [],
   "source": [
    "# Define function to call Gemini API specifically for financial queries\n",
    "def query_gemini_finance(text_input):\n",
    "    response = requests.post(\"https://GEMINI_API_ENDPOINT\", json={\"input\": text_input})\n",
    "    # Check if response is finance-focused\n",
    "    if not \"finance\" in response.json().get(\"domain\", \"\"):\n",
    "        return \"This chatbot is specialized in financial market forecasting and analysis.\"\n",
    "    return response.json().get(\"response\")"
   ]
  },
  {
   "cell_type": "code",
   "execution_count": 6,
   "id": "cdc2fb05-b764-4382-b933-b2b06d07a908",
   "metadata": {},
   "outputs": [],
   "source": [
    "# Add a function to fetch real-time data for supplemental context (e.g., Alpha Vantage or Yahoo Finance API)\n",
    "def fetch_market_data(ticker):\n",
    "    market_data = requests.get(f\"https://api.example.com/market_data/{ticker}\")\n",
    "    if market_data.status_code == 200:\n",
    "        return market_data.json()\n",
    "    return \"Market data not available.\""
   ]
  },
  {
   "cell_type": "code",
   "execution_count": 7,
   "id": "c3298bb7-68c8-4aa5-88c4-1556a14641c5",
   "metadata": {},
   "outputs": [],
   "source": [
    "# Text-to-Speech setup (using Google TTS as an example)\n",
    "def text_to_speech(text):\n",
    "    client = texttospeech.TextToSpeechClient()\n",
    "    synthesis_input = texttospeech.SynthesisInput(text=text)\n",
    "    voice = texttospeech.VoiceSelectionParams(language_code=\"en-US\", ssml_gender=texttospeech.SsmlVoiceGender.NEUTRAL)\n",
    "    audio_config = texttospeech.AudioConfig(audio_encoding=texttospeech.AudioEncoding.MP3)\n",
    "    response = client.synthesize_speech(input=synthesis_input, voice=voice, audio_config=audio_config)\n",
    "    return response.audio_content"
   ]
  },
  {
   "cell_type": "code",
   "execution_count": 8,
   "id": "99460b1b-818d-45dd-b282-a1960f6e84b1",
   "metadata": {},
   "outputs": [],
   "source": [
    "# Define Gradio app function\n",
    "def financial_forecasting_interface(input_text, audio):\n",
    "    # Convert audio to text if provided, then set to input_text\n",
    "    if audio:\n",
    "        # Convert audio to text (not shown for brevity)\n",
    "        pass # Assume this creates a variable `text_input` from audio\n",
    "    # Process input and fetch market data\n",
    "    response = query_gemini_finance(input_text)\n",
    "    market_data = fetch_market_data(input_text.split()[0]) # Simplified example\n",
    "    # Combine response with market data for a comprehensive answer\n",
    "    final_response = f\"{response}\\n\\nMarket Data:\\n{market_data}\"\n",
    "    audio_response = text_to_speech(final_response)\n",
    "    return final_response, audio_response"
   ]
  },
  {
   "cell_type": "code",
   "execution_count": 13,
   "id": "c0b0ad32-bbc8-4fac-8df0-2c709fa49846",
   "metadata": {},
   "outputs": [
    {
     "name": "stdout",
     "output_type": "stream",
     "text": [
      "Running on local URL:  http://127.0.0.1:7863\n",
      "\n",
      "To create a public link, set `share=True` in `launch()`.\n"
     ]
    },
    {
     "data": {
      "text/html": [
       "<div><iframe src=\"http://127.0.0.1:7863/\" width=\"100%\" height=\"500\" allow=\"autoplay; camera; microphone; clipboard-read; clipboard-write;\" frameborder=\"0\" allowfullscreen></iframe></div>"
      ],
      "text/plain": [
       "<IPython.core.display.HTML object>"
      ]
     },
     "metadata": {},
     "output_type": "display_data"
    },
    {
     "data": {
      "text/plain": []
     },
     "execution_count": 13,
     "metadata": {},
     "output_type": "execute_result"
    }
   ],
   "source": [
    "# Launch Gradio UI\n",
    "with gr.Blocks() as app:\n",
    "    text_input = gr.Textbox(label=\"Enter your financial forecast question\")\n",
    "    audio_input = gr.Audio(type=\"filepath\", label=\"Or record your question\") # Removed 'source' argument\n",
    "    output_text = gr.Textbox(label=\"Chatbot response\")\n",
    "    output_audio = gr.Audio(label=\"Audio response\")\n",
    "\n",
    "    # Link the UI inputs and outputs\n",
    "    btn = gr.Button(\"Ask\")\n",
    "    btn.click(financial_forecasting_interface, [text_input, audio_input], [output_text, output_audio])\n",
    "\n",
    "app.launch()"
   ]
  },
  {
   "cell_type": "code",
   "execution_count": null,
   "id": "a7aeb5ca-b797-4269-b476-d6fca4cdbf20",
   "metadata": {},
   "outputs": [],
   "source": []
  }
 ],
 "metadata": {
  "kernelspec": {
   "display_name": "Python 3 (ipykernel)",
   "language": "python",
   "name": "python3"
  },
  "language_info": {
   "codemirror_mode": {
    "name": "ipython",
    "version": 3
   },
   "file_extension": ".py",
   "mimetype": "text/x-python",
   "name": "python",
   "nbconvert_exporter": "python",
   "pygments_lexer": "ipython3",
   "version": "3.12.4"
  }
 },
 "nbformat": 4,
 "nbformat_minor": 5
}
